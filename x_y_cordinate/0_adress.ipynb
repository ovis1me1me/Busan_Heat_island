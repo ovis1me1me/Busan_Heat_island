{
 "cells": [
  {
   "cell_type": "code",
   "execution_count": 2,
   "metadata": {},
   "outputs": [],
   "source": [
    "import pandas as pd\n",
    "\n",
    "# Provided JSON data\n",
    "data = {\n",
    "\"type\": \"FeatureCollection\",\n",
    "\"name\": \"narrowHotJason\",\n",
    "\"crs\": { \"type\": \"name\", \"properties\": { \"name\": \"urn:ogc:def:crs:OGC:1.3:CRS84\" } },\n",
    "\"features\": [\n",
    "{ \"type\": \"Feature\", \"properties\": { \"id\": None }, \"geometry\": None },\n",
    "{ \"type\": \"Feature\", \"properties\": { \"id\": None }, \"geometry\": { \"type\": \"Point\", \"coordinates\": [ 129.093453797365498, 35.249419571181875 ] } },\n",
    "{ \"type\": \"Feature\", \"properties\": { \"id\": None }, \"geometry\": { \"type\": \"Point\", \"coordinates\": [ 129.122842846507325, 35.214792715823798 ] } },\n",
    "{ \"type\": \"Feature\", \"properties\": { \"id\": None }, \"geometry\": { \"type\": \"Point\", \"coordinates\": [ 129.063877192779586, 35.132880100475695 ] } },\n",
    "{ \"type\": \"Feature\", \"properties\": { \"id\": None }, \"geometry\": { \"type\": \"Point\", \"coordinates\": [ 128.981706167850888, 35.220524622973556 ] } },\n",
    "{ \"type\": \"Feature\", \"properties\": { \"id\": None }, \"geometry\": { \"type\": \"Point\", \"coordinates\": [ 128.986300297932473, 35.220708386513905 ] } },\n",
    "{ \"type\": \"Feature\", \"properties\": { \"id\": None }, \"geometry\": { \"type\": \"Point\", \"coordinates\": [ 128.980891932802479, 35.145116369456197 ] } },\n",
    "{ \"type\": \"Feature\", \"properties\": { \"id\": None }, \"geometry\": { \"type\": \"Point\", \"coordinates\": [ 128.947958587225173, 35.181166192257656 ] } },\n",
    "{ \"type\": \"Feature\", \"properties\": { \"id\": None }, \"geometry\": { \"type\": \"Point\", \"coordinates\": [ 128.949082775467957, 35.178752884644688 ] } },\n",
    "{ \"type\": \"Feature\", \"properties\": { \"id\": None }, \"geometry\": { \"type\": \"Point\", \"coordinates\": [ 128.9490528949691, 35.169986893768339 ] } },\n",
    "{ \"type\": \"Feature\", \"properties\": { \"id\": None }, \"geometry\": { \"type\": \"Point\", \"coordinates\": [ 128.944725831916401, 35.172557243279954 ] } },\n",
    "{ \"type\": \"Feature\", \"properties\": { \"id\": None }, \"geometry\": { \"type\": \"Point\", \"coordinates\": [ 128.93031008694544, 35.181926665710584 ] } },\n",
    "{ \"type\": \"Feature\", \"properties\": { \"id\": None }, \"geometry\": { \"type\": \"Point\", \"coordinates\": [ 128.944064127019232, 35.195299535223221 ] } },\n",
    "{ \"type\": \"Feature\", \"properties\": { \"id\": None }, \"geometry\": { \"type\": \"Point\", \"coordinates\": [ 128.941577712428, 35.214555825696877 ] } },\n",
    "{ \"type\": \"Feature\", \"properties\": { \"id\": None }, \"geometry\": { \"type\": \"Point\", \"coordinates\": [ 128.938459967825906, 35.210495037745062 ] } },\n",
    "{ \"type\": \"Feature\", \"properties\": { \"id\": None }, \"geometry\": { \"type\": \"Point\", \"coordinates\": [ 128.865867167976802, 35.150139573489341 ] } },\n",
    "{ \"type\": \"Feature\", \"properties\": { \"id\": None }, \"geometry\": { \"type\": \"Point\", \"coordinates\": [ 128.884376112843768, 35.142567791115006 ] } },\n",
    "{ \"type\": \"Feature\", \"properties\": { \"id\": None }, \"geometry\": { \"type\": \"Point\", \"coordinates\": [ 128.874978551037657, 35.138344922997803 ] } },\n",
    "{ \"type\": \"Feature\", \"properties\": { \"id\": None }, \"geometry\": { \"type\": \"Point\", \"coordinates\": [ 128.826657125106919, 35.152105041167957 ] } },\n",
    "{ \"type\": \"Feature\", \"properties\": { \"id\": None }, \"geometry\": { \"type\": \"Point\", \"coordinates\": [ 128.816447197952982, 35.15278831834226 ] } },\n",
    "{ \"type\": \"Feature\", \"properties\": { \"id\": None }, \"geometry\": { \"type\": \"Point\", \"coordinates\": [ 128.873012884299158, 35.101856103095734 ] } },\n",
    "{ \"type\": \"Feature\", \"properties\": { \"id\": None }, \"geometry\": { \"type\": \"Point\", \"coordinates\": [ 128.877296332233811, 35.106756008403096 ] } },\n",
    "{ \"type\": \"Feature\", \"properties\": { \"id\": None }, \"geometry\": { \"type\": \"Point\", \"coordinates\": [ 128.868295024438794, 35.086693795528603 ] } },\n",
    "{ \"type\": \"Feature\", \"properties\": { \"id\": None }, \"geometry\": { \"type\": \"Point\", \"coordinates\": [ 128.860598914070437, 35.086672275071471 ] } },\n",
    "{ \"type\": \"Feature\", \"properties\": { \"id\": None }, \"geometry\": { \"type\": \"Point\", \"coordinates\": [ 128.870278228368733, 35.09392727525659 ] } }\n",
    "]\n",
    "}\n",
    "\n",
    "# Access the \"features\" key to get the list of features\n",
    "features = data[\"features\"]\n",
    "\n",
    "# Create a list of dictionaries with the required structure\n",
    "csv_data = [{\"address\": None, \"latitude\": point[\"geometry\"][\"coordinates\"][1], \"longitude\": point[\"geometry\"][\"coordinates\"][0]} if point[\"geometry\"] else {\"address\": None, \"latitude\": None, \"longitude\": None} for point in features]\n",
    "\n",
    "# Create a DataFrame from the list of dictionaries\n",
    "df = pd.DataFrame(csv_data)\n",
    "\n",
    "# Save the DataFrame to a CSV file\n",
    "df.to_csv(\"output.csv\", index=False)\n"
   ]
  }
 ],
 "metadata": {
  "kernelspec": {
   "display_name": "Python 3",
   "language": "python",
   "name": "python3"
  },
  "language_info": {
   "codemirror_mode": {
    "name": "ipython",
    "version": 3
   },
   "file_extension": ".py",
   "mimetype": "text/x-python",
   "name": "python",
   "nbconvert_exporter": "python",
   "pygments_lexer": "ipython3",
   "version": "3.11.2"
  }
 },
 "nbformat": 4,
 "nbformat_minor": 2
}
